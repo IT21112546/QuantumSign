{
 "cells": [
  {
   "cell_type": "markdown",
   "id": "8c2a583b",
   "metadata": {
    "papermill": {
     "duration": 0.006556,
     "end_time": "2024-04-28T16:28:08.728612",
     "exception": false,
     "start_time": "2024-04-28T16:28:08.722056",
     "status": "completed"
    },
    "tags": []
   },
   "source": [
    "# Import The Libraries"
   ]
  },
  {
   "cell_type": "code",
   "execution_count": 1,
   "id": "8f1ec0a9",
   "metadata": {
    "execution": {
     "iopub.execute_input": "2024-04-28T16:28:08.743203Z",
     "iopub.status.busy": "2024-04-28T16:28:08.742450Z",
     "iopub.status.idle": "2024-04-28T16:28:11.032703Z",
     "shell.execute_reply": "2024-04-28T16:28:11.031508Z"
    },
    "papermill": {
     "duration": 2.300637,
     "end_time": "2024-04-28T16:28:11.035353",
     "exception": false,
     "start_time": "2024-04-28T16:28:08.734716",
     "status": "completed"
    },
    "tags": []
   },
   "outputs": [],
   "source": [
    "import numpy as np\n",
    "import pandas as pd\n",
    "from sklearn.model_selection import train_test_split\n",
    "from sklearn.linear_model import LogisticRegression\n",
    "from sklearn.tree import DecisionTreeClassifier\n",
    "from sklearn.svm import SVC\n",
    "from sklearn.ensemble import RandomForestClassifier\n",
    "from sklearn.neighbors import KNeighborsClassifier\n",
    "from sklearn.preprocessing import StandardScaler, OneHotEncoder\n",
    "from sklearn.impute import SimpleImputer\n",
    "from sklearn.compose import ColumnTransformer\n",
    "from sklearn.metrics import roc_auc_score, roc_curve, confusion_matrix\n",
    "from sklearn.pipeline import Pipeline\n",
    "import matplotlib.pyplot as plt\n",
    "import ipaddress"
   ]
  },
  {
   "cell_type": "markdown",
   "id": "12914f6d",
   "metadata": {
    "papermill": {
     "duration": 0.005877,
     "end_time": "2024-04-28T16:28:11.047525",
     "exception": false,
     "start_time": "2024-04-28T16:28:11.041648",
     "status": "completed"
    },
    "tags": []
   },
   "source": [
    "# Load The Dataset"
   ]
  },
  {
   "cell_type": "code",
   "execution_count": 2,
   "id": "123837b3",
   "metadata": {
    "execution": {
     "iopub.execute_input": "2024-04-28T16:28:11.062452Z",
     "iopub.status.busy": "2024-04-28T16:28:11.061227Z",
     "iopub.status.idle": "2024-04-28T16:28:18.656885Z",
     "shell.execute_reply": "2024-04-28T16:28:18.655758Z"
    },
    "papermill": {
     "duration": 7.605772,
     "end_time": "2024-04-28T16:28:18.659651",
     "exception": false,
     "start_time": "2024-04-28T16:28:11.053879",
     "status": "completed"
    },
    "tags": []
   },
   "outputs": [],
   "source": [
    "data = pd.read_csv('/kaggle/input/rba-dataset/rba-dataset.csv', nrows=1000000)"
   ]
  },
  {
   "cell_type": "markdown",
   "id": "8ceac632",
   "metadata": {
    "papermill": {
     "duration": 0.005934,
     "end_time": "2024-04-28T16:28:18.671799",
     "exception": false,
     "start_time": "2024-04-28T16:28:18.665865",
     "status": "completed"
    },
    "tags": []
   },
   "source": [
    "# Data Preprocessing/Cleaning"
   ]
  },
  {
   "cell_type": "markdown",
   "id": "2ea9284d",
   "metadata": {
    "papermill": {
     "duration": 0.005684,
     "end_time": "2024-04-28T16:28:18.683436",
     "exception": false,
     "start_time": "2024-04-28T16:28:18.677752",
     "status": "completed"
    },
    "tags": []
   },
   "source": [
    "## Calculating The Exact Hour of Day"
   ]
  },
  {
   "cell_type": "code",
   "execution_count": 3,
   "id": "6e5d0975",
   "metadata": {
    "execution": {
     "iopub.execute_input": "2024-04-28T16:28:18.697486Z",
     "iopub.status.busy": "2024-04-28T16:28:18.696935Z",
     "iopub.status.idle": "2024-04-28T16:28:19.054094Z",
     "shell.execute_reply": "2024-04-28T16:28:19.053003Z"
    },
    "papermill": {
     "duration": 0.367532,
     "end_time": "2024-04-28T16:28:19.057096",
     "exception": false,
     "start_time": "2024-04-28T16:28:18.689564",
     "status": "completed"
    },
    "tags": []
   },
   "outputs": [],
   "source": [
    "data['Login Hour'] = pd.to_datetime(data['Login Timestamp']).dt.hour"
   ]
  },
  {
   "cell_type": "markdown",
   "id": "eb9c623f",
   "metadata": {
    "papermill": {
     "duration": 0.005674,
     "end_time": "2024-04-28T16:28:19.068944",
     "exception": false,
     "start_time": "2024-04-28T16:28:19.063270",
     "status": "completed"
    },
    "tags": []
   },
   "source": [
    "## Converting Booleans To Integers"
   ]
  },
  {
   "cell_type": "code",
   "execution_count": 4,
   "id": "f0f95c1d",
   "metadata": {
    "execution": {
     "iopub.execute_input": "2024-04-28T16:28:19.083568Z",
     "iopub.status.busy": "2024-04-28T16:28:19.083170Z",
     "iopub.status.idle": "2024-04-28T16:28:19.090767Z",
     "shell.execute_reply": "2024-04-28T16:28:19.089777Z"
    },
    "papermill": {
     "duration": 0.01804,
     "end_time": "2024-04-28T16:28:19.092875",
     "exception": false,
     "start_time": "2024-04-28T16:28:19.074835",
     "status": "completed"
    },
    "tags": []
   },
   "outputs": [],
   "source": [
    "data['Is Account Takeover'] = data['Is Account Takeover'].astype(np.uint8)\n",
    "data['Is Attack IP'] = data['Is Attack IP'].astype(np.uint8)\n",
    "data['Login Successful'] = data['Login Successful'].astype(np.uint8)"
   ]
  },
  {
   "cell_type": "markdown",
   "id": "07d8ad96",
   "metadata": {
    "papermill": {
     "duration": 0.005802,
     "end_time": "2024-04-28T16:28:19.108444",
     "exception": false,
     "start_time": "2024-04-28T16:28:19.102642",
     "status": "completed"
    },
    "tags": []
   },
   "source": [
    "## Dropping Unneeded Columns"
   ]
  },
  {
   "cell_type": "code",
   "execution_count": 5,
   "id": "34533110",
   "metadata": {
    "execution": {
     "iopub.execute_input": "2024-04-28T16:28:19.123193Z",
     "iopub.status.busy": "2024-04-28T16:28:19.122063Z",
     "iopub.status.idle": "2024-04-28T16:28:19.277702Z",
     "shell.execute_reply": "2024-04-28T16:28:19.276611Z"
    },
    "papermill": {
     "duration": 0.165402,
     "end_time": "2024-04-28T16:28:19.280062",
     "exception": false,
     "start_time": "2024-04-28T16:28:19.114660",
     "status": "completed"
    },
    "tags": []
   },
   "outputs": [],
   "source": [
    "data = data.drop(columns=[\"Round-Trip Time [ms]\", 'Region', 'City', 'Login Timestamp', 'index'])"
   ]
  },
  {
   "cell_type": "markdown",
   "id": "e7b76cc1",
   "metadata": {
    "papermill": {
     "duration": 0.005816,
     "end_time": "2024-04-28T16:28:19.292330",
     "exception": false,
     "start_time": "2024-04-28T16:28:19.286514",
     "status": "completed"
    },
    "tags": []
   },
   "source": [
    "## Converting Strings To Integers"
   ]
  },
  {
   "cell_type": "code",
   "execution_count": 6,
   "id": "be5f2b35",
   "metadata": {
    "execution": {
     "iopub.execute_input": "2024-04-28T16:28:19.305975Z",
     "iopub.status.busy": "2024-04-28T16:28:19.305592Z",
     "iopub.status.idle": "2024-04-28T16:28:19.820065Z",
     "shell.execute_reply": "2024-04-28T16:28:19.819233Z"
    },
    "papermill": {
     "duration": 0.5242,
     "end_time": "2024-04-28T16:28:19.822505",
     "exception": false,
     "start_time": "2024-04-28T16:28:19.298305",
     "status": "completed"
    },
    "tags": []
   },
   "outputs": [],
   "source": [
    "data['User Agent String'], _ = pd.factorize(data['User Agent String'])\n",
    "data['Browser Name and Version'], _ = pd.factorize(data['Browser Name and Version'])\n",
    "data['OS Name and Version'], _ = pd.factorize(data['OS Name and Version'])"
   ]
  },
  {
   "cell_type": "markdown",
   "id": "71508b85",
   "metadata": {
    "papermill": {
     "duration": 0.005748,
     "end_time": "2024-04-28T16:28:19.834420",
     "exception": false,
     "start_time": "2024-04-28T16:28:19.828672",
     "status": "completed"
    },
    "tags": []
   },
   "source": [
    "## Converting IP Addresses To Integers"
   ]
  },
  {
   "cell_type": "code",
   "execution_count": 7,
   "id": "037eb4e1",
   "metadata": {
    "execution": {
     "iopub.execute_input": "2024-04-28T16:28:19.849889Z",
     "iopub.status.busy": "2024-04-28T16:28:19.848382Z",
     "iopub.status.idle": "2024-04-28T16:28:24.660779Z",
     "shell.execute_reply": "2024-04-28T16:28:24.659706Z"
    },
    "papermill": {
     "duration": 4.823073,
     "end_time": "2024-04-28T16:28:24.663399",
     "exception": false,
     "start_time": "2024-04-28T16:28:19.840326",
     "status": "completed"
    },
    "tags": []
   },
   "outputs": [],
   "source": [
    "def ip_to_int(ip):\n",
    "    return int(ipaddress.ip_address(ip))\n",
    "\n",
    "data['IP Address'] = data['IP Address'].apply(ip_to_int)"
   ]
  },
  {
   "cell_type": "markdown",
   "id": "6c331879",
   "metadata": {
    "papermill": {
     "duration": 0.006328,
     "end_time": "2024-04-28T16:28:24.676516",
     "exception": false,
     "start_time": "2024-04-28T16:28:24.670188",
     "status": "completed"
    },
    "tags": []
   },
   "source": [
    "## Encoding Categorical & Numerical Variables"
   ]
  },
  {
   "cell_type": "code",
   "execution_count": 8,
   "id": "a0a57eaa",
   "metadata": {
    "execution": {
     "iopub.execute_input": "2024-04-28T16:28:24.691143Z",
     "iopub.status.busy": "2024-04-28T16:28:24.690124Z",
     "iopub.status.idle": "2024-04-28T16:28:24.695178Z",
     "shell.execute_reply": "2024-04-28T16:28:24.694320Z"
    },
    "papermill": {
     "duration": 0.014581,
     "end_time": "2024-04-28T16:28:24.697360",
     "exception": false,
     "start_time": "2024-04-28T16:28:24.682779",
     "status": "completed"
    },
    "tags": []
   },
   "outputs": [],
   "source": [
    "categorical_cols = ['Country', 'Device Type']\n",
    "numeric_cols = ['ASN', 'Login Hour', 'IP Address', 'User Agent String', 'Browser Name and Version', 'OS Name and Version']"
   ]
  },
  {
   "cell_type": "markdown",
   "id": "24449a35",
   "metadata": {
    "papermill": {
     "duration": 0.00558,
     "end_time": "2024-04-28T16:28:24.709002",
     "exception": false,
     "start_time": "2024-04-28T16:28:24.703422",
     "status": "completed"
    },
    "tags": []
   },
   "source": [
    "## Splitting The Dataset Into Train/Test"
   ]
  },
  {
   "cell_type": "code",
   "execution_count": 9,
   "id": "36d20929",
   "metadata": {
    "execution": {
     "iopub.execute_input": "2024-04-28T16:28:24.723004Z",
     "iopub.status.busy": "2024-04-28T16:28:24.722296Z",
     "iopub.status.idle": "2024-04-28T16:28:25.170953Z",
     "shell.execute_reply": "2024-04-28T16:28:25.170046Z"
    },
    "papermill": {
     "duration": 0.458387,
     "end_time": "2024-04-28T16:28:25.173529",
     "exception": false,
     "start_time": "2024-04-28T16:28:24.715142",
     "status": "completed"
    },
    "tags": []
   },
   "outputs": [],
   "source": [
    "# Splitting the dataset\n",
    "features = data.drop(['Is Attack IP', 'Is Account Takeover'], axis=1)\n",
    "labels = data['Is Account Takeover']\n",
    "\n",
    "X_train, X_test, y_train, y_test = train_test_split(features, labels, test_size=0.2, random_state=42)"
   ]
  },
  {
   "cell_type": "markdown",
   "id": "6051bfbb",
   "metadata": {
    "papermill": {
     "duration": 0.005671,
     "end_time": "2024-04-28T16:28:25.185262",
     "exception": false,
     "start_time": "2024-04-28T16:28:25.179591",
     "status": "completed"
    },
    "tags": []
   },
   "source": [
    "# Training The Model"
   ]
  },
  {
   "cell_type": "markdown",
   "id": "4bbd122e",
   "metadata": {
    "papermill": {
     "duration": 0.005701,
     "end_time": "2024-04-28T16:28:25.196825",
     "exception": false,
     "start_time": "2024-04-28T16:28:25.191124",
     "status": "completed"
    },
    "tags": []
   },
   "source": [
    "## Preparing The Pipeline"
   ]
  },
  {
   "cell_type": "code",
   "execution_count": 10,
   "id": "880f1b5e",
   "metadata": {
    "execution": {
     "iopub.execute_input": "2024-04-28T16:28:25.210509Z",
     "iopub.status.busy": "2024-04-28T16:28:25.209810Z",
     "iopub.status.idle": "2024-04-28T16:28:25.216627Z",
     "shell.execute_reply": "2024-04-28T16:28:25.215875Z"
    },
    "papermill": {
     "duration": 0.015716,
     "end_time": "2024-04-28T16:28:25.218418",
     "exception": false,
     "start_time": "2024-04-28T16:28:25.202702",
     "status": "completed"
    },
    "tags": []
   },
   "outputs": [],
   "source": [
    "# Preprocessors\n",
    "preprocessor = ColumnTransformer(\n",
    "    transformers=[\n",
    "        ('num', StandardScaler(), numeric_cols),\n",
    "        ('cat', OneHotEncoder(), categorical_cols)\n",
    "    ])\n",
    "\n",
    "# Classifiers\n",
    "classifiers = {\n",
    "    'logistic_regression': LogisticRegression(max_iter=1000),\n",
    "    'decision_tree': DecisionTreeClassifier(),\n",
    "    'svm': SVC(probability=True),\n",
    "    'random_forest': RandomForestClassifier()\n",
    "}\n",
    "\n",
    "# A function to choose classifiers\n",
    "def make_pipeline(classifier_key):\n",
    "    if classifier_key in classifiers:\n",
    "        clf = Pipeline(steps=[\n",
    "            ('preprocessor', preprocessor),\n",
    "            ('classifier', classifiers[classifier_key])\n",
    "        ])\n",
    "        return clf\n",
    "    else:\n",
    "        raise ValueError(f\"Classifier {classifier_key} is not defined\")"
   ]
  },
  {
   "cell_type": "markdown",
   "id": "9a229172",
   "metadata": {
    "papermill": {
     "duration": 0.005781,
     "end_time": "2024-04-28T16:28:25.230185",
     "exception": false,
     "start_time": "2024-04-28T16:28:25.224404",
     "status": "completed"
    },
    "tags": []
   },
   "source": [
    "# Logistic Regression"
   ]
  },
  {
   "cell_type": "code",
   "execution_count": 11,
   "id": "f052c63d",
   "metadata": {
    "execution": {
     "iopub.execute_input": "2024-04-28T16:28:25.244067Z",
     "iopub.status.busy": "2024-04-28T16:28:25.243019Z",
     "iopub.status.idle": "2024-04-28T16:28:28.675111Z",
     "shell.execute_reply": "2024-04-28T16:28:28.673962Z"
    },
    "papermill": {
     "duration": 3.441605,
     "end_time": "2024-04-28T16:28:28.677658",
     "exception": false,
     "start_time": "2024-04-28T16:28:25.236053",
     "status": "completed"
    },
    "tags": []
   },
   "outputs": [
    {
     "name": "stdout",
     "output_type": "stream",
     "text": [
      "AUC Score: 0.916850419422958\n"
     ]
    }
   ],
   "source": [
    "classifier_key = 'logistic_regression'\n",
    "pipeline = make_pipeline(classifier_key)\n",
    "pipeline.fit(X_train, y_train)\n",
    "\n",
    "# Evaluation\n",
    "predictions = pipeline.predict(X_test)\n",
    "probs = pipeline.predict_proba(X_test)[:, 1]\n",
    "auc_score = roc_auc_score(y_test, probs)\n",
    "\n",
    "print(f\"AUC Score: {auc_score}\")"
   ]
  },
  {
   "cell_type": "markdown",
   "id": "885ef861",
   "metadata": {
    "papermill": {
     "duration": 0.005807,
     "end_time": "2024-04-28T16:28:28.689741",
     "exception": false,
     "start_time": "2024-04-28T16:28:28.683934",
     "status": "completed"
    },
    "tags": []
   },
   "source": [
    "# Decision Trees"
   ]
  },
  {
   "cell_type": "code",
   "execution_count": 12,
   "id": "c2dde9cf",
   "metadata": {
    "execution": {
     "iopub.execute_input": "2024-04-28T16:28:28.703867Z",
     "iopub.status.busy": "2024-04-28T16:28:28.703474Z",
     "iopub.status.idle": "2024-04-28T16:28:33.850827Z",
     "shell.execute_reply": "2024-04-28T16:28:33.849169Z"
    },
    "papermill": {
     "duration": 5.157107,
     "end_time": "2024-04-28T16:28:33.853099",
     "exception": false,
     "start_time": "2024-04-28T16:28:28.695992",
     "status": "completed"
    },
    "tags": []
   },
   "outputs": [
    {
     "name": "stdout",
     "output_type": "stream",
     "text": [
      "AUC Score: 0.8333308332958327\n"
     ]
    }
   ],
   "source": [
    "classifier_key = 'decision_tree'\n",
    "pipeline = make_pipeline(classifier_key)\n",
    "pipeline.fit(X_train, y_train)\n",
    "\n",
    "# Evaluation\n",
    "predictions = pipeline.predict(X_test)\n",
    "probs = pipeline.predict_proba(X_test)[:, 1]\n",
    "auc_score = roc_auc_score(y_test, probs)\n",
    "\n",
    "print(f\"AUC Score: {auc_score}\")"
   ]
  },
  {
   "cell_type": "markdown",
   "id": "08257943",
   "metadata": {
    "papermill": {
     "duration": 0.005767,
     "end_time": "2024-04-28T16:28:33.865171",
     "exception": false,
     "start_time": "2024-04-28T16:28:33.859404",
     "status": "completed"
    },
    "tags": []
   },
   "source": [
    "# Support Vector Machines (SVMs)"
   ]
  },
  {
   "cell_type": "code",
   "execution_count": 13,
   "id": "902b4cb3",
   "metadata": {
    "execution": {
     "iopub.execute_input": "2024-04-28T16:28:33.878838Z",
     "iopub.status.busy": "2024-04-28T16:28:33.878452Z",
     "iopub.status.idle": "2024-04-28T16:29:07.961262Z",
     "shell.execute_reply": "2024-04-28T16:29:07.960161Z"
    },
    "papermill": {
     "duration": 34.102431,
     "end_time": "2024-04-28T16:29:07.973651",
     "exception": false,
     "start_time": "2024-04-28T16:28:33.871220",
     "status": "completed"
    },
    "tags": []
   },
   "outputs": [
    {
     "name": "stdout",
     "output_type": "stream",
     "text": [
      "AUC Score: 0.9879314856389512\n"
     ]
    }
   ],
   "source": [
    "classifier_key = 'svm'\n",
    "pipeline = make_pipeline(classifier_key)\n",
    "pipeline.fit(X_train, y_train)\n",
    "\n",
    "# Evaluation\n",
    "predictions = pipeline.predict(X_test)\n",
    "probs = pipeline.predict_proba(X_test)[:, 1]\n",
    "auc_score = roc_auc_score(y_test, probs)\n",
    "\n",
    "print(f\"AUC Score: {auc_score}\")"
   ]
  },
  {
   "cell_type": "markdown",
   "id": "04e2f9f9",
   "metadata": {
    "papermill": {
     "duration": 0.005925,
     "end_time": "2024-04-28T16:29:07.985806",
     "exception": false,
     "start_time": "2024-04-28T16:29:07.979881",
     "status": "completed"
    },
    "tags": []
   },
   "source": [
    "# Random Forest"
   ]
  },
  {
   "cell_type": "code",
   "execution_count": 14,
   "id": "9eccfeea",
   "metadata": {
    "execution": {
     "iopub.execute_input": "2024-04-28T16:29:08.000099Z",
     "iopub.status.busy": "2024-04-28T16:29:07.999470Z",
     "iopub.status.idle": "2024-04-28T16:29:54.806024Z",
     "shell.execute_reply": "2024-04-28T16:29:54.804956Z"
    },
    "papermill": {
     "duration": 46.822676,
     "end_time": "2024-04-28T16:29:54.814572",
     "exception": false,
     "start_time": "2024-04-28T16:29:07.991896",
     "status": "completed"
    },
    "tags": []
   },
   "outputs": [
    {
     "name": "stdout",
     "output_type": "stream",
     "text": [
      "AUC Score: 0.8332983328083254\n"
     ]
    }
   ],
   "source": [
    "classifier_key = 'random_forest'\n",
    "pipeline = make_pipeline(classifier_key)\n",
    "pipeline.fit(X_train, y_train)\n",
    "\n",
    "# Evaluation\n",
    "predictions = pipeline.predict(X_test)\n",
    "probs = pipeline.predict_proba(X_test)[:, 1]\n",
    "auc_score = roc_auc_score(y_test, probs)\n",
    "\n",
    "print(f\"AUC Score: {auc_score}\")"
   ]
  }
 ],
 "metadata": {
  "kaggle": {
   "accelerator": "none",
   "dataSources": [
    {
     "datasetId": 2306153,
     "sourceId": 3880747,
     "sourceType": "datasetVersion"
    }
   ],
   "dockerImageVersionId": 30699,
   "isGpuEnabled": false,
   "isInternetEnabled": true,
   "language": "python",
   "sourceType": "notebook"
  },
  "kernelspec": {
   "display_name": "Python 3",
   "language": "python",
   "name": "python3"
  },
  "language_info": {
   "codemirror_mode": {
    "name": "ipython",
    "version": 3
   },
   "file_extension": ".py",
   "mimetype": "text/x-python",
   "name": "python",
   "nbconvert_exporter": "python",
   "pygments_lexer": "ipython3",
   "version": "3.10.13"
  },
  "papermill": {
   "default_parameters": {},
   "duration": 109.380189,
   "end_time": "2024-04-28T16:29:55.440754",
   "environment_variables": {},
   "exception": null,
   "input_path": "__notebook__.ipynb",
   "output_path": "__notebook__.ipynb",
   "parameters": {},
   "start_time": "2024-04-28T16:28:06.060565",
   "version": "2.5.0"
  }
 },
 "nbformat": 4,
 "nbformat_minor": 5
}
